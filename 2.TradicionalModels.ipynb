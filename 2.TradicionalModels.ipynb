{
 "cells": [
  {
   "cell_type": "code",
   "execution_count": 29,
   "metadata": {},
   "outputs": [],
   "source": [
    "import time\n",
    "import pandas as pd\n",
    "import seaborn as sns\n",
    "import numpy as np\n",
    "import matplotlib.pyplot as plt\n",
    "import tqdm\n",
    "from optht import optht\n",
    "import joblib\n",
    "import imageio\n",
    "from skimage import data\n",
    "from skimage.color import rgb2gray\n",
    "import matplotlib.image as mpimg\n",
    "import math\n",
    "import plotly.express as px  #visualisation\n",
    "import plotly.graph_objects as go #visualisation\n",
    "\n",
    "import warnings # Ignore alert messages\n",
    "warnings.simplefilter(action='ignore', category=FutureWarning)\n",
    "\n",
    "np.seterr(divide='ignore')\n",
    "np.random.seed(42)\n",
    "from sklearn.metrics import mean_squared_error, f1_score, accuracy_score, mean_absolute_error, r2_score\n",
    "from sklearn.model_selection import cross_val_score, train_test_split, KFold, StratifiedShuffleSplit, TimeSeriesSplit, RepeatedKFold\n",
    "\n",
    "from sklearn.pipeline import Pipeline\n",
    "from sklearn.preprocessing import StandardScaler\n",
    "from sklearn.model_selection import cross_validate, GridSearchCV\n",
    "\n",
    "from sklearn.cluster import KMeans\n",
    "from sklearn.linear_model import LogisticRegression\n",
    "from sklearn.discriminant_analysis import LinearDiscriminantAnalysis\n",
    "from sklearn.neighbors import KNeighborsClassifier\n",
    "from sklearn.svm import SVC\n",
    "from sklearn.gaussian_process import GaussianProcessClassifier\n",
    "from sklearn.tree import DecisionTreeClassifier\n",
    "from sklearn.ensemble import RandomForestClassifier\n",
    "from sklearn.neural_network import MLPClassifier\n",
    "from sklearn.ensemble import AdaBoostClassifier\n",
    "from sklearn.naive_bayes import GaussianNB\n",
    "from sklearn.discriminant_analysis import QuadraticDiscriminantAnalysis"
   ]
  },
  {
   "cell_type": "code",
   "execution_count": 48,
   "metadata": {},
   "outputs": [],
   "source": [
    "df= pd.read_csv(r'data\\Wine_quality_clean.csv')"
   ]
  },
  {
   "cell_type": "code",
   "execution_count": 7,
   "metadata": {},
   "outputs": [
    {
     "data": {
      "text/html": [
       "<div>\n",
       "<style scoped>\n",
       "    .dataframe tbody tr th:only-of-type {\n",
       "        vertical-align: middle;\n",
       "    }\n",
       "\n",
       "    .dataframe tbody tr th {\n",
       "        vertical-align: top;\n",
       "    }\n",
       "\n",
       "    .dataframe thead th {\n",
       "        text-align: right;\n",
       "    }\n",
       "</style>\n",
       "<table border=\"1\" class=\"dataframe\">\n",
       "  <thead>\n",
       "    <tr style=\"text-align: right;\">\n",
       "      <th></th>\n",
       "      <th>type</th>\n",
       "      <th>fixed acidity</th>\n",
       "      <th>citric acid</th>\n",
       "      <th>residual sugar</th>\n",
       "      <th>free sulfur dioxide</th>\n",
       "      <th>total sulfur dioxide</th>\n",
       "      <th>density</th>\n",
       "      <th>volatile acidity</th>\n",
       "      <th>chlorides</th>\n",
       "      <th>sulphates</th>\n",
       "      <th>pH</th>\n",
       "      <th>alcohol</th>\n",
       "      <th>quality_label</th>\n",
       "    </tr>\n",
       "  </thead>\n",
       "  <tbody>\n",
       "    <tr>\n",
       "      <th>0</th>\n",
       "      <td>white</td>\n",
       "      <td>7.0</td>\n",
       "      <td>0.36</td>\n",
       "      <td>20.7</td>\n",
       "      <td>45.0</td>\n",
       "      <td>170.0</td>\n",
       "      <td>1.00100</td>\n",
       "      <td>0.270</td>\n",
       "      <td>0.045</td>\n",
       "      <td>0.45</td>\n",
       "      <td>3.00</td>\n",
       "      <td>8.8</td>\n",
       "      <td>1</td>\n",
       "    </tr>\n",
       "    <tr>\n",
       "      <th>1</th>\n",
       "      <td>white</td>\n",
       "      <td>6.3</td>\n",
       "      <td>0.34</td>\n",
       "      <td>1.6</td>\n",
       "      <td>14.0</td>\n",
       "      <td>132.0</td>\n",
       "      <td>0.99400</td>\n",
       "      <td>0.300</td>\n",
       "      <td>0.049</td>\n",
       "      <td>0.49</td>\n",
       "      <td>3.30</td>\n",
       "      <td>9.5</td>\n",
       "      <td>1</td>\n",
       "    </tr>\n",
       "    <tr>\n",
       "      <th>2</th>\n",
       "      <td>white</td>\n",
       "      <td>8.1</td>\n",
       "      <td>0.40</td>\n",
       "      <td>6.9</td>\n",
       "      <td>30.0</td>\n",
       "      <td>97.0</td>\n",
       "      <td>0.99510</td>\n",
       "      <td>0.280</td>\n",
       "      <td>0.050</td>\n",
       "      <td>0.44</td>\n",
       "      <td>3.26</td>\n",
       "      <td>10.1</td>\n",
       "      <td>1</td>\n",
       "    </tr>\n",
       "    <tr>\n",
       "      <th>3</th>\n",
       "      <td>white</td>\n",
       "      <td>7.2</td>\n",
       "      <td>0.32</td>\n",
       "      <td>8.5</td>\n",
       "      <td>47.0</td>\n",
       "      <td>186.0</td>\n",
       "      <td>0.99560</td>\n",
       "      <td>0.230</td>\n",
       "      <td>0.058</td>\n",
       "      <td>0.40</td>\n",
       "      <td>3.19</td>\n",
       "      <td>9.9</td>\n",
       "      <td>1</td>\n",
       "    </tr>\n",
       "    <tr>\n",
       "      <th>4</th>\n",
       "      <td>white</td>\n",
       "      <td>7.2</td>\n",
       "      <td>0.32</td>\n",
       "      <td>8.5</td>\n",
       "      <td>47.0</td>\n",
       "      <td>186.0</td>\n",
       "      <td>0.99560</td>\n",
       "      <td>0.230</td>\n",
       "      <td>0.058</td>\n",
       "      <td>0.40</td>\n",
       "      <td>3.19</td>\n",
       "      <td>9.9</td>\n",
       "      <td>1</td>\n",
       "    </tr>\n",
       "    <tr>\n",
       "      <th>...</th>\n",
       "      <td>...</td>\n",
       "      <td>...</td>\n",
       "      <td>...</td>\n",
       "      <td>...</td>\n",
       "      <td>...</td>\n",
       "      <td>...</td>\n",
       "      <td>...</td>\n",
       "      <td>...</td>\n",
       "      <td>...</td>\n",
       "      <td>...</td>\n",
       "      <td>...</td>\n",
       "      <td>...</td>\n",
       "      <td>...</td>\n",
       "    </tr>\n",
       "    <tr>\n",
       "      <th>6155</th>\n",
       "      <td>red</td>\n",
       "      <td>6.8</td>\n",
       "      <td>0.08</td>\n",
       "      <td>1.9</td>\n",
       "      <td>28.0</td>\n",
       "      <td>38.0</td>\n",
       "      <td>0.99651</td>\n",
       "      <td>0.620</td>\n",
       "      <td>0.068</td>\n",
       "      <td>0.82</td>\n",
       "      <td>3.42</td>\n",
       "      <td>9.5</td>\n",
       "      <td>1</td>\n",
       "    </tr>\n",
       "    <tr>\n",
       "      <th>6156</th>\n",
       "      <td>red</td>\n",
       "      <td>6.2</td>\n",
       "      <td>0.08</td>\n",
       "      <td>2.0</td>\n",
       "      <td>32.0</td>\n",
       "      <td>44.0</td>\n",
       "      <td>0.99490</td>\n",
       "      <td>0.600</td>\n",
       "      <td>0.090</td>\n",
       "      <td>0.58</td>\n",
       "      <td>3.45</td>\n",
       "      <td>10.5</td>\n",
       "      <td>0</td>\n",
       "    </tr>\n",
       "    <tr>\n",
       "      <th>6157</th>\n",
       "      <td>red</td>\n",
       "      <td>6.3</td>\n",
       "      <td>0.13</td>\n",
       "      <td>2.3</td>\n",
       "      <td>29.0</td>\n",
       "      <td>40.0</td>\n",
       "      <td>0.99574</td>\n",
       "      <td>0.510</td>\n",
       "      <td>0.076</td>\n",
       "      <td>0.75</td>\n",
       "      <td>3.42</td>\n",
       "      <td>11.0</td>\n",
       "      <td>1</td>\n",
       "    </tr>\n",
       "    <tr>\n",
       "      <th>6158</th>\n",
       "      <td>red</td>\n",
       "      <td>5.9</td>\n",
       "      <td>0.12</td>\n",
       "      <td>2.0</td>\n",
       "      <td>32.0</td>\n",
       "      <td>44.0</td>\n",
       "      <td>0.99547</td>\n",
       "      <td>0.645</td>\n",
       "      <td>0.075</td>\n",
       "      <td>0.71</td>\n",
       "      <td>3.57</td>\n",
       "      <td>10.2</td>\n",
       "      <td>0</td>\n",
       "    </tr>\n",
       "    <tr>\n",
       "      <th>6159</th>\n",
       "      <td>red</td>\n",
       "      <td>6.0</td>\n",
       "      <td>0.47</td>\n",
       "      <td>3.6</td>\n",
       "      <td>18.0</td>\n",
       "      <td>42.0</td>\n",
       "      <td>0.99549</td>\n",
       "      <td>0.310</td>\n",
       "      <td>0.067</td>\n",
       "      <td>0.66</td>\n",
       "      <td>3.39</td>\n",
       "      <td>11.0</td>\n",
       "      <td>1</td>\n",
       "    </tr>\n",
       "  </tbody>\n",
       "</table>\n",
       "<p>6160 rows × 13 columns</p>\n",
       "</div>"
      ],
      "text/plain": [
       "       type  fixed acidity  citric acid  residual sugar  free sulfur dioxide  \\\n",
       "0     white            7.0         0.36            20.7                 45.0   \n",
       "1     white            6.3         0.34             1.6                 14.0   \n",
       "2     white            8.1         0.40             6.9                 30.0   \n",
       "3     white            7.2         0.32             8.5                 47.0   \n",
       "4     white            7.2         0.32             8.5                 47.0   \n",
       "...     ...            ...          ...             ...                  ...   \n",
       "6155    red            6.8         0.08             1.9                 28.0   \n",
       "6156    red            6.2         0.08             2.0                 32.0   \n",
       "6157    red            6.3         0.13             2.3                 29.0   \n",
       "6158    red            5.9         0.12             2.0                 32.0   \n",
       "6159    red            6.0         0.47             3.6                 18.0   \n",
       "\n",
       "      total sulfur dioxide  density  volatile acidity  chlorides  sulphates  \\\n",
       "0                    170.0  1.00100             0.270      0.045       0.45   \n",
       "1                    132.0  0.99400             0.300      0.049       0.49   \n",
       "2                     97.0  0.99510             0.280      0.050       0.44   \n",
       "3                    186.0  0.99560             0.230      0.058       0.40   \n",
       "4                    186.0  0.99560             0.230      0.058       0.40   \n",
       "...                    ...      ...               ...        ...        ...   \n",
       "6155                  38.0  0.99651             0.620      0.068       0.82   \n",
       "6156                  44.0  0.99490             0.600      0.090       0.58   \n",
       "6157                  40.0  0.99574             0.510      0.076       0.75   \n",
       "6158                  44.0  0.99547             0.645      0.075       0.71   \n",
       "6159                  42.0  0.99549             0.310      0.067       0.66   \n",
       "\n",
       "        pH  alcohol  quality_label  \n",
       "0     3.00      8.8              1  \n",
       "1     3.30      9.5              1  \n",
       "2     3.26     10.1              1  \n",
       "3     3.19      9.9              1  \n",
       "4     3.19      9.9              1  \n",
       "...    ...      ...            ...  \n",
       "6155  3.42      9.5              1  \n",
       "6156  3.45     10.5              0  \n",
       "6157  3.42     11.0              1  \n",
       "6158  3.57     10.2              0  \n",
       "6159  3.39     11.0              1  \n",
       "\n",
       "[6160 rows x 13 columns]"
      ]
     },
     "execution_count": 7,
     "metadata": {},
     "output_type": "execute_result"
    }
   ],
   "source": [
    "df"
   ]
  },
  {
   "cell_type": "code",
   "execution_count": 8,
   "metadata": {},
   "outputs": [],
   "source": [
    "df = pd.get_dummies(df, columns=['type'])"
   ]
  },
  {
   "cell_type": "code",
   "execution_count": 19,
   "metadata": {},
   "outputs": [],
   "source": [
    "#X_final = df.drop(['quality_label'],axis=1)\n",
    "#X_final = X_final.to_numpy()\n",
    "#X_final"
   ]
  },
  {
   "cell_type": "code",
   "execution_count": 18,
   "metadata": {},
   "outputs": [],
   "source": [
    "#y_final = df[['quality_label']].to_numpy()\n",
    "#y_final = y_final.reshape(-1, 1)\n",
    "#y_final"
   ]
  },
  {
   "cell_type": "code",
   "execution_count": 20,
   "metadata": {},
   "outputs": [],
   "source": [
    "X_final = df.drop(['quality_label'],axis=1)\n",
    "y_final = df[['quality_label']]"
   ]
  },
  {
   "cell_type": "code",
   "execution_count": 14,
   "metadata": {},
   "outputs": [],
   "source": [
    "def create_scaled_dataset(X,y):\n",
    "    X_train, X_test, y_train, y_test = train_test_split(X, y,test_size=0.3,random_state=0,shuffle=True) \n",
    "\n",
    "    std_scaler = StandardScaler()\n",
    "    X_scaled_train = pd.DataFrame(std_scaler.fit_transform(X_train),columns=X_train.columns,index=X_train.index)\n",
    "    X_scaled_test = pd.DataFrame(std_scaler.transform(X_test),columns=X_train.columns,index=X_test.index)\n",
    "    return X_scaled_train,X_scaled_test, y_train,y_test"
   ]
  },
  {
   "cell_type": "code",
   "execution_count": 21,
   "metadata": {},
   "outputs": [],
   "source": [
    "X_train_scaled,X_test_scaled,y_train,y_test = create_scaled_dataset(X_final,y_final)"
   ]
  },
  {
   "cell_type": "code",
   "execution_count": 31,
   "metadata": {},
   "outputs": [
    {
     "name": "stderr",
     "output_type": "stream",
     "text": [
      "C:\\Users\\DELL\\AppData\\Local\\Temp\\ipykernel_16560\\3635386988.py:7: DataConversionWarning: A column-vector y was passed when a 1d array was expected. Please change the shape of y to (n_samples,), for example using ravel().\n",
      "  clf.fit(X_train_scaled, y_train)\n"
     ]
    },
    {
     "name": "stdout",
     "output_type": "stream",
     "text": [
      "Acurácia 0.8068181818181818\n"
     ]
    }
   ],
   "source": [
    "from sklearn.ensemble import RandomForestClassifier\n",
    "from sklearn.datasets import make_classification\n",
    "from sklearn.metrics import accuracy_score\n",
    "\n",
    "clf = RandomForestClassifier(n_estimators = 850, max_depth = 34, min_samples_leaf = 1, min_samples_split = 3, \n",
    "max_features =3 , random_state=0)\n",
    "clf.fit(X_train_scaled, y_train)\n",
    "p=clf.predict(X_test_scaled)\n",
    "print('Acurácia', accuracy_score(y_test,p))"
   ]
  },
  {
   "cell_type": "code",
   "execution_count": 32,
   "metadata": {},
   "outputs": [
    {
     "data": {
      "text/plain": [
       "<sklearn.metrics._plot.confusion_matrix.ConfusionMatrixDisplay at 0x2532f00c700>"
      ]
     },
     "execution_count": 32,
     "metadata": {},
     "output_type": "execute_result"
    },
    {
     "data": {
      "image/png": "[encoded data removed]",
      "text/plain": [
       "<Figure size 432x288 with 2 Axes>"
      ]
     },
     "metadata": {
      "needs_background": "light"
     },
     "output_type": "display_data"
    }
   ],
   "source": [
    "from sklearn.metrics import ConfusionMatrixDisplay\n",
    "\n",
    "ConfusionMatrixDisplay.from_predictions(y_test,p)"
   ]
  },
  {
   "cell_type": "code",
   "execution_count": 33,
   "metadata": {},
   "outputs": [
    {
     "data": {
      "text/plain": [
       "<sklearn.metrics._plot.confusion_matrix.ConfusionMatrixDisplay at 0x253299a9210>"
      ]
     },
     "execution_count": 33,
     "metadata": {},
     "output_type": "execute_result"
    },
    {
     "data": {
      "image/png": "[encoded data removed]",
      "text/plain": [
       "<Figure size 432x288 with 2 Axes>"
      ]
     },
     "metadata": {
      "needs_background": "light"
     },
     "output_type": "display_data"
    }
   ],
   "source": [
    "ConfusionMatrixDisplay.from_predictions(y_test,p, normalize = 'true')"
   ]
  },
  {
   "cell_type": "code",
   "execution_count": 27,
   "metadata": {},
   "outputs": [
    {
     "name": "stderr",
     "output_type": "stream",
     "text": [
      "\u001b[32m[I 2022-12-14 15:59:23,384]\u001b[0m A new study created in memory with name: no-name-935be3f5-6214-4a34-8a3a-361e3636cf0c\u001b[0m\n"
     ]
    }
   ],
   "source": [
    "import optuna\n",
    "\n",
    "def objective(trial):\n",
    "    \n",
    "    joblib.dump(study, 'study.pkl')\n",
    "    \n",
    "    f_n_estimators = trial.suggest_int(\"n_estimators\", low=200,high=1000,step=25)\n",
    "    f_max_depth = trial.suggest_int(\"max_depth\", low=2,high=50,step=2)\n",
    "    f_min_samples_leaf = trial.suggest_int(\"min_samples_leaf\", low=1, high=20, step=1)\n",
    "    f_min_samples_split = trial.suggest_int(\"min_samples_split\", low=2, high=20, step=1)\n",
    "    int_max_features = np.arange(2,len(X_train_scaled.columns),1,dtype=int) \n",
    "    max_features_list = []\n",
    "    for e in int_max_features: \n",
    "       max_features_list.append(int(e))\n",
    "    f_max_features = trial.suggest_categorical(\"max_features\",max_features_list) \n",
    "     \n",
    "    model = RandomForestClassifier(max_depth=f_max_depth,\n",
    "                                           n_estimators = f_n_estimators,\n",
    "                                           min_samples_split = f_min_samples_split,\n",
    "                                           min_samples_leaf = f_min_samples_leaf,\n",
    "                                           max_features = f_max_features,\n",
    "                                           random_state=0, \n",
    "                                           n_jobs = -1)\n",
    "    model.fit(X_train_scaled,y_train)\n",
    "    p=model.predict(X_test_scaled)\n",
    "    score= accuracy_score(y_test,p)\n",
    "    return score\n",
    "\n",
    "    \n",
    "study = optuna.create_study(direction='maximize')"
   ]
  },
  {
   "cell_type": "code",
   "execution_count": 43,
   "metadata": {},
   "outputs": [],
   "source": [
    "#study.optimize(objective, n_trials=50,show_progress_bar=True)\n",
    "\n",
    "#trial = study.best_trial\n",
    "\n",
    "#print('Accuracy: {}'.format(trial.value))\n",
    "#print(\"Best hyperparameters: {}\".format(trial.params))"
   ]
  },
  {
   "cell_type": "code",
   "execution_count": 42,
   "metadata": {},
   "outputs": [
    {
     "data": {
      "text/plain": [
       "['study_RandomForest.pkl']"
      ]
     },
     "execution_count": 42,
     "metadata": {},
     "output_type": "execute_result"
    }
   ],
   "source": [
    "joblib.dump(study, \"study_RandomForest.pkl\")"
   ]
  },
  {
   "cell_type": "code",
   "execution_count": 38,
   "metadata": {},
   "outputs": [
    {
     "name": "stderr",
     "output_type": "stream",
     "text": [
      "\u001b[32m[I 2022-12-14 16:45:49,666]\u001b[0m A new study created in memory with name: no-name-06d916ef-9aee-4b3d-83d8-5cd22f0c7b99\u001b[0m\n"
     ]
    }
   ],
   "source": [
    "import optuna\n",
    "from sklearn.ensemble import GradientBoostingClassifier\n",
    "\n",
    "def objective(trial):\n",
    "    \n",
    "    joblib.dump(study, 'study.pkl')\n",
    "    \n",
    "    f_n_estimators = trial.suggest_int(\"n_estimators\", low=200,high=1000,step=25)\n",
    "    f_max_depth = trial.suggest_int(\"max_depth\", low=2,high=50,step=2)\n",
    "    f_min_samples_leaf = trial.suggest_int(\"min_samples_leaf\", low=1, high=20, step=1)\n",
    "    f_min_samples_split = trial.suggest_int(\"min_samples_split\", low=2, high=20, step=1)\n",
    "    int_max_features = np.arange(2,len(X_train_scaled.columns),1,dtype=int) \n",
    "    max_features_list = []\n",
    "    for e in int_max_features: \n",
    "       max_features_list.append(int(e))\n",
    "    f_max_features = trial.suggest_categorical(\"max_features\",max_features_list) \n",
    "     \n",
    "    model = GradientBoostingClassifier(max_depth=f_max_depth,\n",
    "                                           n_estimators = f_n_estimators,\n",
    "                                           min_samples_split = f_min_samples_split,\n",
    "                                           min_samples_leaf = f_min_samples_leaf,\n",
    "                                           max_features = f_max_features,\n",
    "                                           random_state=0)\n",
    "    model.fit(X_train_scaled,y_train)\n",
    "    p=model.predict(X_test_scaled)\n",
    "    score= accuracy_score(y_test,p)\n",
    "    return score\n",
    "\n",
    "    \n",
    "study_gb = optuna.create_study(direction='maximize')"
   ]
  },
  {
   "cell_type": "code",
   "execution_count": 45,
   "metadata": {},
   "outputs": [],
   "source": [
    "#study_gb.optimize(objective, n_trials=50,show_progress_bar=True)\n",
    "\n",
    "#trial = study_gb.best_trial\n",
    "\n",
    "#print('Accuracy: {}'.format(trial.value))\n",
    "#print(\"Best hyperparameters: {}\".format(trial.params))"
   ]
  },
  {
   "cell_type": "code",
   "execution_count": 44,
   "metadata": {},
   "outputs": [
    {
     "data": {
      "text/plain": [
       "['study_GradientBoosting.pkl']"
      ]
     },
     "execution_count": 44,
     "metadata": {},
     "output_type": "execute_result"
    }
   ],
   "source": [
    "joblib.dump(study_gb, \"study_GradientBoosting.pkl\")"
   ]
  },
  {
   "attachments": {},
   "cell_type": "markdown",
   "metadata": {},
   "source": [
    "## Balancing the data"
   ]
  },
  {
   "cell_type": "code",
   "execution_count": 71,
   "metadata": {},
   "outputs": [],
   "source": [
    "df2 = pd.read_csv(r'data\\Wine_quality_clean.csv')\n",
    "df_white = pd.read_csv(r'data\\White_Wine_clean.csv')\n",
    "df_red = pd.read_csv(r'data\\Red_Wine_clean.csv')"
   ]
  },
  {
   "cell_type": "code",
   "execution_count": 73,
   "metadata": {},
   "outputs": [],
   "source": [
    "df_white = df_white.drop(['type'],axis=1)"
   ]
  },
  {
   "cell_type": "code",
   "execution_count": 74,
   "metadata": {},
   "outputs": [],
   "source": [
    "df_red = df_red.drop(['type'],axis=1)"
   ]
  },
  {
   "cell_type": "code",
   "execution_count": 50,
   "metadata": {},
   "outputs": [
    {
     "data": {
      "text/plain": [
       "<BarContainer object of 3 artists>"
      ]
     },
     "execution_count": 50,
     "metadata": {},
     "output_type": "execute_result"
    },
    {
     "data": {
      "image/png": "[encoded data removed]",
      "text/plain": [
       "<Figure size 864x432 with 2 Axes>"
      ]
     },
     "metadata": {
      "needs_background": "light"
     },
     "output_type": "display_data"
    }
   ],
   "source": [
    "fig = plt.figure(figsize = (12, 6))\n",
    "#title = fig.suptitle(\"Wine Type Vs Quality\", fontsize=14)\n",
    "fig.subplots_adjust(top=0.85, wspace=0.4)\n",
    "\n",
    "ax1 = fig.add_subplot(1,2, 1)\n",
    "ax1.set_title(\"Vinho branco\",size=15)\n",
    "ax1.set_xlabel(\"Qualidade\",size=15)\n",
    "ax1.set_ylabel(\"Quantidade\",size=15) \n",
    "rw_q = df2.quality_label[df2.type == 'white'].value_counts()\n",
    "rw_q = (list(rw_q.index), list(rw_q.values))\n",
    "ax1.set_ylim([0, 4000])\n",
    "ax1.tick_params(axis='both', which='major', labelsize=12)\n",
    "ax1.bar(rw_q[0], rw_q[1], color='blue', edgecolor='black', linewidth=1)\n",
    "\n",
    "ax2 = fig.add_subplot(1,2, 2)\n",
    "ax2.set_title(\"Vinho tinto\",size=15)\n",
    "ax2.set_xlabel(\"Qualidade\",size=15)\n",
    "ax2.set_ylabel(\"Quantidade\",size=15) \n",
    "ww_q = df2.quality_label[df2.type == 'red'].value_counts()\n",
    "ww_q = (list(ww_q.index), list(ww_q.values))\n",
    "ax2.set_ylim([0, 2500])\n",
    "ax2.tick_params(axis='both', which='major', labelsize=12)\n",
    "ax2.bar(ww_q[0], ww_q[1], color='green', edgecolor='black', linewidth=1)"
   ]
  },
  {
   "cell_type": "code",
   "execution_count": 51,
   "metadata": {},
   "outputs": [],
   "source": [
    "from imblearn.over_sampling import SMOTE"
   ]
  },
  {
   "cell_type": "code",
   "execution_count": 75,
   "metadata": {},
   "outputs": [],
   "source": [
    "oversample = SMOTE()\n",
    "X_final = df_red.drop(['quality_label'],axis=1)\n",
    "y_final = df_red[['quality_label']]\n",
    "X_red,y_red = oversample.fit_resample(X_final,y_final)"
   ]
  },
  {
   "cell_type": "code",
   "execution_count": 84,
   "metadata": {},
   "outputs": [
    {
     "data": {
      "text/plain": [
       "quality_label\n",
       "1                745\n",
       "0                645\n",
       "2                 16\n",
       "dtype: int64"
      ]
     },
     "execution_count": 84,
     "metadata": {},
     "output_type": "execute_result"
    }
   ],
   "source": [
    "#before SMOTE\n",
    "df_red[['quality_label']].value_counts()"
   ]
  },
  {
   "cell_type": "code",
   "execution_count": 85,
   "metadata": {},
   "outputs": [
    {
     "data": {
      "text/plain": [
       "quality_label\n",
       "0                745\n",
       "1                745\n",
       "2                745\n",
       "dtype: int64"
      ]
     },
     "execution_count": 85,
     "metadata": {},
     "output_type": "execute_result"
    }
   ],
   "source": [
    "#after SMOTE\n",
    "y_red.value_counts()"
   ]
  },
  {
   "cell_type": "code",
   "execution_count": 86,
   "metadata": {},
   "outputs": [],
   "source": [
    "df_red_smote = pd.concat([X_red,y_red],axis=1)"
   ]
  },
  {
   "cell_type": "code",
   "execution_count": 88,
   "metadata": {},
   "outputs": [],
   "source": [
    "df_red_smote['type'] = 'red'"
   ]
  },
  {
   "cell_type": "code",
   "execution_count": 89,
   "metadata": {},
   "outputs": [],
   "source": [
    "X_final = df_white.drop(['quality_label'],axis=1)\n",
    "y_final = df_white[['quality_label']]\n",
    "X_white,y_white = oversample.fit_resample(X_final,y_final)"
   ]
  },
  {
   "cell_type": "code",
   "execution_count": 90,
   "metadata": {},
   "outputs": [
    {
     "data": {
      "text/plain": [
       "quality_label\n",
       "1                3004\n",
       "0                1574\n",
       "2                 176\n",
       "dtype: int64"
      ]
     },
     "execution_count": 90,
     "metadata": {},
     "output_type": "execute_result"
    }
   ],
   "source": [
    "#before SMOTE\n",
    "df_white[['quality_label']].value_counts()"
   ]
  },
  {
   "cell_type": "code",
   "execution_count": 91,
   "metadata": {},
   "outputs": [
    {
     "data": {
      "text/plain": [
       "quality_label\n",
       "0                3004\n",
       "1                3004\n",
       "2                3004\n",
       "dtype: int64"
      ]
     },
     "execution_count": 91,
     "metadata": {},
     "output_type": "execute_result"
    }
   ],
   "source": [
    "#after SMOTE\n",
    "y_white.value_counts()"
   ]
  },
  {
   "cell_type": "code",
   "execution_count": 92,
   "metadata": {},
   "outputs": [],
   "source": [
    "df_white_smote = pd.concat([X_white,y_white],axis=1)\n",
    "df_white_smote['type'] = 'white'"
   ]
  },
  {
   "cell_type": "code",
   "execution_count": 93,
   "metadata": {},
   "outputs": [],
   "source": [
    "df_smote = pd.concat([df_red_smote,df_white_smote],axis=0)"
   ]
  },
  {
   "cell_type": "code",
   "execution_count": 94,
   "metadata": {},
   "outputs": [
    {
     "data": {
      "text/html": [
       "<div>\n",
       "<style scoped>\n",
       "    .dataframe tbody tr th:only-of-type {\n",
       "        vertical-align: middle;\n",
       "    }\n",
       "\n",
       "    .dataframe tbody tr th {\n",
       "        vertical-align: top;\n",
       "    }\n",
       "\n",
       "    .dataframe thead th {\n",
       "        text-align: right;\n",
       "    }\n",
       "</style>\n",
       "<table border=\"1\" class=\"dataframe\">\n",
       "  <thead>\n",
       "    <tr style=\"text-align: right;\">\n",
       "      <th></th>\n",
       "      <th>fixed acidity</th>\n",
       "      <th>citric acid</th>\n",
       "      <th>residual sugar</th>\n",
       "      <th>free sulfur dioxide</th>\n",
       "      <th>total sulfur dioxide</th>\n",
       "      <th>density</th>\n",
       "      <th>volatile acidity</th>\n",
       "      <th>chlorides</th>\n",
       "      <th>sulphates</th>\n",
       "      <th>pH</th>\n",
       "      <th>alcohol</th>\n",
       "      <th>quality_label</th>\n",
       "      <th>type</th>\n",
       "    </tr>\n",
       "  </thead>\n",
       "  <tbody>\n",
       "    <tr>\n",
       "      <th>0</th>\n",
       "      <td>7.400000</td>\n",
       "      <td>0.000000</td>\n",
       "      <td>1.900000</td>\n",
       "      <td>11.000000</td>\n",
       "      <td>34.000000</td>\n",
       "      <td>0.997800</td>\n",
       "      <td>0.700000</td>\n",
       "      <td>0.076000</td>\n",
       "      <td>0.560000</td>\n",
       "      <td>3.510000</td>\n",
       "      <td>9.400000</td>\n",
       "      <td>0</td>\n",
       "      <td>red</td>\n",
       "    </tr>\n",
       "    <tr>\n",
       "      <th>1</th>\n",
       "      <td>7.800000</td>\n",
       "      <td>0.000000</td>\n",
       "      <td>2.600000</td>\n",
       "      <td>25.000000</td>\n",
       "      <td>67.000000</td>\n",
       "      <td>0.996800</td>\n",
       "      <td>0.880000</td>\n",
       "      <td>0.098000</td>\n",
       "      <td>0.680000</td>\n",
       "      <td>3.200000</td>\n",
       "      <td>9.800000</td>\n",
       "      <td>0</td>\n",
       "      <td>red</td>\n",
       "    </tr>\n",
       "    <tr>\n",
       "      <th>2</th>\n",
       "      <td>7.800000</td>\n",
       "      <td>0.040000</td>\n",
       "      <td>2.300000</td>\n",
       "      <td>15.000000</td>\n",
       "      <td>54.000000</td>\n",
       "      <td>0.997000</td>\n",
       "      <td>0.760000</td>\n",
       "      <td>0.092000</td>\n",
       "      <td>0.650000</td>\n",
       "      <td>3.260000</td>\n",
       "      <td>9.800000</td>\n",
       "      <td>0</td>\n",
       "      <td>red</td>\n",
       "    </tr>\n",
       "    <tr>\n",
       "      <th>3</th>\n",
       "      <td>11.200000</td>\n",
       "      <td>0.560000</td>\n",
       "      <td>1.900000</td>\n",
       "      <td>17.000000</td>\n",
       "      <td>60.000000</td>\n",
       "      <td>0.998000</td>\n",
       "      <td>0.280000</td>\n",
       "      <td>0.075000</td>\n",
       "      <td>0.580000</td>\n",
       "      <td>3.160000</td>\n",
       "      <td>9.800000</td>\n",
       "      <td>1</td>\n",
       "      <td>red</td>\n",
       "    </tr>\n",
       "    <tr>\n",
       "      <th>4</th>\n",
       "      <td>7.400000</td>\n",
       "      <td>0.000000</td>\n",
       "      <td>1.900000</td>\n",
       "      <td>11.000000</td>\n",
       "      <td>34.000000</td>\n",
       "      <td>0.997800</td>\n",
       "      <td>0.700000</td>\n",
       "      <td>0.076000</td>\n",
       "      <td>0.560000</td>\n",
       "      <td>3.510000</td>\n",
       "      <td>9.400000</td>\n",
       "      <td>0</td>\n",
       "      <td>red</td>\n",
       "    </tr>\n",
       "    <tr>\n",
       "      <th>...</th>\n",
       "      <td>...</td>\n",
       "      <td>...</td>\n",
       "      <td>...</td>\n",
       "      <td>...</td>\n",
       "      <td>...</td>\n",
       "      <td>...</td>\n",
       "      <td>...</td>\n",
       "      <td>...</td>\n",
       "      <td>...</td>\n",
       "      <td>...</td>\n",
       "      <td>...</td>\n",
       "      <td>...</td>\n",
       "      <td>...</td>\n",
       "    </tr>\n",
       "    <tr>\n",
       "      <th>9007</th>\n",
       "      <td>6.393215</td>\n",
       "      <td>0.311525</td>\n",
       "      <td>3.294901</td>\n",
       "      <td>36.305099</td>\n",
       "      <td>92.457649</td>\n",
       "      <td>0.990138</td>\n",
       "      <td>0.252373</td>\n",
       "      <td>0.032288</td>\n",
       "      <td>0.668816</td>\n",
       "      <td>3.221525</td>\n",
       "      <td>12.569490</td>\n",
       "      <td>2</td>\n",
       "      <td>white</td>\n",
       "    </tr>\n",
       "    <tr>\n",
       "      <th>9008</th>\n",
       "      <td>8.100000</td>\n",
       "      <td>0.440000</td>\n",
       "      <td>14.100000</td>\n",
       "      <td>43.000000</td>\n",
       "      <td>145.000000</td>\n",
       "      <td>1.000600</td>\n",
       "      <td>0.170000</td>\n",
       "      <td>0.053000</td>\n",
       "      <td>0.750000</td>\n",
       "      <td>3.280000</td>\n",
       "      <td>8.800000</td>\n",
       "      <td>2</td>\n",
       "      <td>white</td>\n",
       "    </tr>\n",
       "    <tr>\n",
       "      <th>9009</th>\n",
       "      <td>6.634617</td>\n",
       "      <td>0.297033</td>\n",
       "      <td>4.773086</td>\n",
       "      <td>29.148360</td>\n",
       "      <td>154.395625</td>\n",
       "      <td>0.991601</td>\n",
       "      <td>0.227033</td>\n",
       "      <td>0.063017</td>\n",
       "      <td>0.484560</td>\n",
       "      <td>3.227033</td>\n",
       "      <td>12.110984</td>\n",
       "      <td>2</td>\n",
       "      <td>white</td>\n",
       "    </tr>\n",
       "    <tr>\n",
       "      <th>9010</th>\n",
       "      <td>7.199394</td>\n",
       "      <td>0.352073</td>\n",
       "      <td>2.518910</td>\n",
       "      <td>34.000000</td>\n",
       "      <td>107.396367</td>\n",
       "      <td>0.990839</td>\n",
       "      <td>0.287927</td>\n",
       "      <td>0.044604</td>\n",
       "      <td>0.521952</td>\n",
       "      <td>3.313721</td>\n",
       "      <td>12.800000</td>\n",
       "      <td>2</td>\n",
       "      <td>white</td>\n",
       "    </tr>\n",
       "    <tr>\n",
       "      <th>9011</th>\n",
       "      <td>6.150391</td>\n",
       "      <td>0.337520</td>\n",
       "      <td>1.775196</td>\n",
       "      <td>36.540037</td>\n",
       "      <td>95.291993</td>\n",
       "      <td>0.990435</td>\n",
       "      <td>0.192480</td>\n",
       "      <td>0.045584</td>\n",
       "      <td>0.779404</td>\n",
       "      <td>3.200801</td>\n",
       "      <td>11.816015</td>\n",
       "      <td>2</td>\n",
       "      <td>white</td>\n",
       "    </tr>\n",
       "  </tbody>\n",
       "</table>\n",
       "<p>11247 rows × 13 columns</p>\n",
       "</div>"
      ],
      "text/plain": [
       "      fixed acidity  citric acid  residual sugar  free sulfur dioxide  \\\n",
       "0          7.400000     0.000000        1.900000            11.000000   \n",
       "1          7.800000     0.000000        2.600000            25.000000   \n",
       "2          7.800000     0.040000        2.300000            15.000000   \n",
       "3         11.200000     0.560000        1.900000            17.000000   \n",
       "4          7.400000     0.000000        1.900000            11.000000   \n",
       "...             ...          ...             ...                  ...   \n",
       "9007       6.393215     0.311525        3.294901            36.305099   \n",
       "9008       8.100000     0.440000       14.100000            43.000000   \n",
       "9009       6.634617     0.297033        4.773086            29.148360   \n",
       "9010       7.199394     0.352073        2.518910            34.000000   \n",
       "9011       6.150391     0.337520        1.775196            36.540037   \n",
       "\n",
       "      total sulfur dioxide   density  volatile acidity  chlorides  sulphates  \\\n",
       "0                34.000000  0.997800          0.700000   0.076000   0.560000   \n",
       "1                67.000000  0.996800          0.880000   0.098000   0.680000   \n",
       "2                54.000000  0.997000          0.760000   0.092000   0.650000   \n",
       "3                60.000000  0.998000          0.280000   0.075000   0.580000   \n",
       "4                34.000000  0.997800          0.700000   0.076000   0.560000   \n",
       "...                    ...       ...               ...        ...        ...   \n",
       "9007             92.457649  0.990138          0.252373   0.032288   0.668816   \n",
       "9008            145.000000  1.000600          0.170000   0.053000   0.750000   \n",
       "9009            154.395625  0.991601          0.227033   0.063017   0.484560   \n",
       "9010            107.396367  0.990839          0.287927   0.044604   0.521952   \n",
       "9011             95.291993  0.990435          0.192480   0.045584   0.779404   \n",
       "\n",
       "            pH    alcohol  quality_label   type  \n",
       "0     3.510000   9.400000              0    red  \n",
       "1     3.200000   9.800000              0    red  \n",
       "2     3.260000   9.800000              0    red  \n",
       "3     3.160000   9.800000              1    red  \n",
       "4     3.510000   9.400000              0    red  \n",
       "...        ...        ...            ...    ...  \n",
       "9007  3.221525  12.569490              2  white  \n",
       "9008  3.280000   8.800000              2  white  \n",
       "9009  3.227033  12.110984              2  white  \n",
       "9010  3.313721  12.800000              2  white  \n",
       "9011  3.200801  11.816015              2  white  \n",
       "\n",
       "[11247 rows x 13 columns]"
      ]
     },
     "execution_count": 94,
     "metadata": {},
     "output_type": "execute_result"
    }
   ],
   "source": [
    "df_smote"
   ]
  },
  {
   "cell_type": "code",
   "execution_count": 96,
   "metadata": {},
   "outputs": [],
   "source": [
    "df_smote.to_csv(r'data\\BalancedData.csv', index=False)"
   ]
  },
  {
   "cell_type": "code",
   "execution_count": 98,
   "metadata": {},
   "outputs": [
    {
     "data": {
      "text/plain": [
       "<BarContainer object of 3 artists>"
      ]
     },
     "execution_count": 98,
     "metadata": {},
     "output_type": "execute_result"
    },
    {
     "data": {
      "image/png": "[encoded data removed]",
      "text/plain": [
       "<Figure size 864x432 with 2 Axes>"
      ]
     },
     "metadata": {
      "needs_background": "light"
     },
     "output_type": "display_data"
    }
   ],
   "source": [
    "fig = plt.figure(figsize = (12, 6))\n",
    "#title = fig.suptitle(\"Wine Type Vs Quality\", fontsize=14)\n",
    "fig.subplots_adjust(top=0.85, wspace=0.4)\n",
    "\n",
    "ax1 = fig.add_subplot(1,2, 1)\n",
    "ax1.set_title(\"Vinho branco\",size=15)\n",
    "ax1.set_xlabel(\"Qualidade\",size=15)\n",
    "ax1.set_ylabel(\"Quantidade\",size=15) \n",
    "rw_q = df_smote.quality_label[df_smote.type == 'white'].value_counts()\n",
    "rw_q = (list(rw_q.index), list(rw_q.values))\n",
    "ax1.set_ylim([0, 4000])\n",
    "ax1.tick_params(axis='both', which='major', labelsize=12)\n",
    "ax1.bar(rw_q[0], rw_q[1], color='blue', edgecolor='black', linewidth=1)\n",
    "\n",
    "ax2 = fig.add_subplot(1,2, 2)\n",
    "ax2.set_title(\"Vinho tinto\",size=15)\n",
    "ax2.set_xlabel(\"Qualidade\",size=15)\n",
    "ax2.set_ylabel(\"Quantidade\",size=15) \n",
    "ww_q = df_smote.quality_label[df_smote.type == 'red'].value_counts()\n",
    "ww_q = (list(ww_q.index), list(ww_q.values))\n",
    "ax2.set_ylim([0, 2500])\n",
    "ax2.tick_params(axis='both', which='major', labelsize=12)\n",
    "ax2.bar(ww_q[0], ww_q[1], color='green', edgecolor='black', linewidth=1)"
   ]
  },
  {
   "cell_type": "code",
   "execution_count": 99,
   "metadata": {},
   "outputs": [],
   "source": [
    "df_smote = pd.get_dummies(df_smote, columns=['type'])\n",
    "X_smote_final = df_smote.drop(['quality_label'],axis=1)\n",
    "y_smote_final = df_smote[['quality_label']]"
   ]
  },
  {
   "cell_type": "code",
   "execution_count": 100,
   "metadata": {},
   "outputs": [],
   "source": [
    "X_train_scaled,X_test_scaled,y_train,y_test = create_scaled_dataset(X_smote_final,y_smote_final)"
   ]
  },
  {
   "cell_type": "code",
   "execution_count": 101,
   "metadata": {},
   "outputs": [
    {
     "name": "stderr",
     "output_type": "stream",
     "text": [
      "C:\\Users\\DELL\\AppData\\Local\\Temp\\ipykernel_16560\\3818236541.py:3: DataConversionWarning: A column-vector y was passed when a 1d array was expected. Please change the shape of y to (n_samples,), for example using ravel().\n",
      "  clf.fit(X_train_scaled, y_train)\n"
     ]
    },
    {
     "name": "stdout",
     "output_type": "stream",
     "text": [
      "Acurácia 0.8835555555555555\n"
     ]
    }
   ],
   "source": [
    "clf = RandomForestClassifier(n_estimators = 850, max_depth = 34, min_samples_leaf = 1, min_samples_split = 3, \n",
    "max_features =3 , random_state=0)\n",
    "clf.fit(X_train_scaled, y_train)\n",
    "p=clf.predict(X_test_scaled)\n",
    "print('Acurácia', accuracy_score(y_test,p))"
   ]
  },
  {
   "cell_type": "code",
   "execution_count": 102,
   "metadata": {},
   "outputs": [
    {
     "data": {
      "text/plain": [
       "<sklearn.metrics._plot.confusion_matrix.ConfusionMatrixDisplay at 0x2533fbe4280>"
      ]
     },
     "execution_count": 102,
     "metadata": {},
     "output_type": "execute_result"
    },
    {
     "data": {
      "image/png": "[encoded data removed]",
      "text/plain": [
       "<Figure size 432x288 with 2 Axes>"
      ]
     },
     "metadata": {
      "needs_background": "light"
     },
     "output_type": "display_data"
    }
   ],
   "source": [
    "ConfusionMatrixDisplay.from_predictions(y_test,p)"
   ]
  },
  {
   "cell_type": "code",
   "execution_count": 103,
   "metadata": {},
   "outputs": [
    {
     "data": {
      "text/plain": [
       "<sklearn.metrics._plot.confusion_matrix.ConfusionMatrixDisplay at 0x2532cf7fd30>"
      ]
     },
     "execution_count": 103,
     "metadata": {},
     "output_type": "execute_result"
    },
    {
     "data": {
      "image/png": "[encoded data removed]",
      "text/plain": [
       "<Figure size 432x288 with 2 Axes>"
      ]
     },
     "metadata": {
      "needs_background": "light"
     },
     "output_type": "display_data"
    }
   ],
   "source": [
    "ConfusionMatrixDisplay.from_predictions(y_test,p, normalize = 'true')"
   ]
  }
 ],
 "metadata": {
  "kernelspec": {
   "display_name": "sparsesensing",
   "language": "python",
   "name": "python3"
  },
  "language_info": {
   "codemirror_mode": {
    "name": "ipython",
    "version": 3
   },
   "file_extension": ".py",
   "mimetype": "text/x-python",
   "name": "python",
   "nbconvert_exporter": "python",
   "pygments_lexer": "ipython3",
   "version": "3.10.4"
  },
  "orig_nbformat": 4,
  "vscode": {
   "interpreter": {
    "hash": "690c40e8c03867c5e1374f22bbe5ac67b5cb0f70983b633ce06b61d7be2b30c6"
   }
  }
 },
 "nbformat": 4,
 "nbformat_minor": 2
}
